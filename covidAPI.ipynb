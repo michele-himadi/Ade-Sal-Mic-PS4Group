{
 "cells": [
  {
   "cell_type": "code",
   "execution_count": null,
   "id": "473e411e-ca98-416a-8c69-ad1b4cbc08fe",
   "metadata": {},
   "outputs": [
    {
     "name": "stdin",
     "output_type": "stream",
     "text": [
      "Enter a date in yyyy-mm-dd format:  2021-03-01\n"
     ]
    },
    {
     "name": "stdout",
     "output_type": "stream",
     "text": [
      "2021-03-01\n",
      "Retrieving https://api.covidtracking.com/v2/us/daily/2021-03-01/simple.json\n",
      "Retrieved 328 characters\n",
      "Date: 2021-03-01\n",
      "Total Cases: 28399281\n",
      "Total Deaths: 504488\n"
     ]
    }
   ],
   "source": [
    "#report covid 19 data on specific date\n",
    "    #only works for dates between 2020-01-13 to 2021-03-06\n",
    "import urllib.request, urllib.parse, urllib.error\n",
    "import json\n",
    "\n",
    "dateurl = 'https://api.covidtracking.com/v2/us/daily/'\n",
    "    #[date-iso-format].json comes at the end as the typical format under documentation\n",
    "\n",
    "while True:\n",
    "    datename = input('Enter a date in yyyy-mm-dd format: ')\n",
    "    if len(datename) < 1: break\n",
    "    print(datename)\n",
    "    url = dateurl + datename + '/simple.json'\n",
    "        #var might be incorrect\n",
    "    \n",
    "    print('Retrieving', url)\n",
    "    uh = urllib.request.urlopen(urllib.request.Request(url, headers={'User-Agent': 'Mozilla/5.0'}))\n",
    "    data = uh.read().decode()\n",
    "    print('Retrieved', len(data), 'characters')\n",
    "\n",
    "    try:\n",
    "        js = json.loads(data)\n",
    "\n",
    "    except:\n",
    "        js = None\n",
    "    print(\"Date:\", js['data']['date'])\n",
    "    print(\"Total Cases:\", js['data']['cases']['total'])\n",
    "    print(\"Total Deaths:\", js['data']['outcomes']['death']['total'])"
   ]
  },
  {
   "cell_type": "code",
   "execution_count": null,
   "id": "8c294185-53bf-4231-8b78-9649b44d4489",
   "metadata": {},
   "outputs": [],
   "source": []
  }
 ],
 "metadata": {
  "kernelspec": {
   "display_name": "UFRC Python-3.10",
   "language": "python",
   "name": "python3-3.10-ufrc"
  },
  "language_info": {
   "codemirror_mode": {
    "name": "ipython",
    "version": 3
   },
   "file_extension": ".py",
   "mimetype": "text/x-python",
   "name": "python",
   "nbconvert_exporter": "python",
   "pygments_lexer": "ipython3",
   "version": "3.10.5"
  }
 },
 "nbformat": 4,
 "nbformat_minor": 5
}
