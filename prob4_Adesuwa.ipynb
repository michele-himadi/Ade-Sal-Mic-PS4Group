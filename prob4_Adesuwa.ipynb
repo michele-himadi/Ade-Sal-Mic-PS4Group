{
 "cells": [
  {
   "cell_type": "code",
   "execution_count": 20,
   "metadata": {},
   "outputs": [],
   "source": [
    "#Importing the libraries needed for this problem set\n",
    "import requests\n",
    "import pandas as pd"
   ]
  },
  {
   "cell_type": "code",
   "execution_count": 39,
   "metadata": {},
   "outputs": [
    {
     "name": "stdout",
     "output_type": "stream",
     "text": [
      "     Location Population Code\n",
      "0     Alabama    4903185   01\n",
      "1      Alaska     731545   02\n",
      "2     Arizona    7278717   04\n",
      "3    Arkansas    3017804   05\n",
      "4  California   39512223   06\n"
     ]
    }
   ],
   "source": [
    "#Adesuwa working together with Saloni and Michelle on problem set 4\n",
    "#I chose the US census API for population estimates, however, I am only retrieving the US population for each state in 2019\n",
    "Host = 'https://api.census.gov/data'\n",
    "year = '2019'\n",
    "dataset= 'pep/charage'\n",
    "base_url = '/'.join([Host, year, dataset])\n",
    "predicates = {}\n",
    "get_vars = [\"NAME\", \"POP\"]\n",
    "predicates[\"get\"] = \",\".join(get_vars)\n",
    "predicates[\"for\"] = \"state:*\"\n",
    "r = requests.get(base_url, params=predicates)\n",
    "#Creating new header for the retrieved dataset\n",
    "col_names = [\"Location\", \"Population\", \"Code\"]\n",
    "df = pd.DataFrame(columns=col_names, data=r.json()[1:])\n",
    "print(df.head())\n",
    "# I am dropping the column \"codes\" for each state because it is redundant\n",
    "df = df.drop(['Code'], axis=1)\n",
    "#I changed the type of the population variable to integer\n",
    "df[\"Population\"] = df[\"Population\"].astype(int)\n",
    "final_df = df.sort_values(by=['Population'], ignore_index = True,ascending=False)\n",
    "final_df.head()"
   ]
  },
  {
   "cell_type": "code",
   "execution_count": 46,
   "metadata": {},
   "outputs": [
    {
     "name": "stdout",
     "output_type": "stream",
     "text": [
      "331433217\n"
     ]
    }
   ],
   "source": [
    "#Question 1: Which state had the lowest population in 2019?\n",
    "Total = final_df['Population'].sum()\n",
    "print(Total)"
   ]
  }
 ],
 "metadata": {
  "kernelspec": {
   "display_name": "Python 3.9.13 ('base')",
   "language": "python",
   "name": "python3"
  },
  "language_info": {
   "codemirror_mode": {
    "name": "ipython",
    "version": 3
   },
   "file_extension": ".py",
   "mimetype": "text/x-python",
   "name": "python",
   "nbconvert_exporter": "python",
   "pygments_lexer": "ipython3",
   "version": "3.9.13"
  },
  "orig_nbformat": 4,
  "vscode": {
   "interpreter": {
    "hash": "fdb31fd2c085db0fff191a197dd041d33abd00e54fa943e9f098f75b421264fa"
   }
  }
 },
 "nbformat": 4,
 "nbformat_minor": 2
}
